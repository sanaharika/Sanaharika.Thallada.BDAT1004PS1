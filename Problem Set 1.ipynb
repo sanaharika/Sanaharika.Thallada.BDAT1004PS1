{
 "cells": [
  {
   "cell_type": "markdown",
   "id": "dacfda3e",
   "metadata": {},
   "source": [
    "# Question 1\n",
    "     # DATA TYPES\n",
    "\n",
    "5 - int               \n",
    "5.0 - float        \n",
    "5 > 1 - boolean       \n",
    "'5'   - String\n",
    "5 * 2  - int\n",
    "'5' * 2 - string\n",
    "'5' + '2' - string\n",
    "5 / 2 - float\n",
    "5 % 2  - int\n",
    "{5, 2, 1} - int array\n",
    "5 == 3 - boolean\n",
    "Pi (the number) - float"
   ]
  },
  {
   "cell_type": "markdown",
   "id": "49e5f3fe",
   "metadata": {},
   "source": [
    "# Question2  //C# \n",
    "    #a) Length of the String.\n",
    "     b) SubString\n",
    "     c)Longest String\n",
    "     d)Dictionary"
   ]
  },
  {
   "cell_type": "code",
   "execution_count": null,
   "id": "c48ddea7",
   "metadata": {},
   "outputs": [],
   "source": [
    "using System;\n",
    "using System.Collections.Generic;\n",
    "\n",
    "\n",
    "class question2\n",
    "{\n",
    "    \n",
    "    static void isSubstring(){ \n",
    "        string str = \"Supercalifragilisticexpialidocious\";\n",
    "        string sub = \"ice\";\n",
    "        int i=0,j=0;\n",
    "        bool flag = false;\n",
    "        while(i<str.Length){\n",
    "            if(str[i] == sub[j]){\n",
    "                int a = i;\n",
    "                while(a<str.Length && j<sub.Length && str[a] == sub[j]){\n",
    "                    a++;\n",
    "                    j++;\n",
    "                    if(j == sub.Length){\n",
    "                        flag = true;\n",
    "                        break;\n",
    "                    }\n",
    "                }\n",
    "            }\n",
    "            if(flag == true)\n",
    "                break;\n",
    "            i++;\n",
    "            j = 0;\n",
    "        }\n",
    "\n",
    "        if(flag == false)\n",
    "            Console.WriteLine(\"Task 2.a \\n\"+str+\" Does not contain \"+sub+\" as a Substring\");\n",
    "            \n",
    "        else\n",
    "            Console.WriteLine(\"Task 2.a \\n\"+str+\" Contain \"+sub+\" as a Substring\");\n",
    "            \n",
    "    }\n",
    "    static void LongestString(){\n",
    "        string a = \"Supercalifragilisticexpialidocious\";\n",
    "        string b = \"Honorificabilitudinitatibus\";\n",
    "        string c = \"Bababadalgharaghtakamminarronnkonn\";\n",
    "        int aa = a.Length;\n",
    "        int bb = b.Length;\n",
    "        int cc = c.Length;\n",
    "        if(aa>bb && aa>cc){\n",
    "            Console.WriteLine(\"Task 2c \\n\"+a+\" is the longest string\");\n",
    "        }\n",
    "        else if (bb>cc){\n",
    "            Console.WriteLine(\"Task 2c \\n\"+b+\" is the longest string\");\n",
    "        }\n",
    "        else{\n",
    "            Console.WriteLine(\"Task 2c \\n\"+c+\" is the longest string\");\n",
    "        }\n",
    "    }\n",
    "    static void DictionaryOrder(){\n",
    "        var d = new Dictionary<string, int>(){{\"Berlioz\",1},{\"Borodin\",2},{\"Brian\",3},{\"Bartok\",4},{\"Bellini\",5},{\"Buxtehude\",5},{\"Bernstein\",5}};\n",
    "        Console.WriteLine(\"Task 2d \\nOrder Of Given words as per Dictionary \");\n",
    "        foreach(KeyValuePair<string,int> k in d){\n",
    "            Console.WriteLine(k.Key);\n",
    "        }\n",
    "    }\n",
    "    static void Main() {\n",
    "        //Task 2a To get Length of given String\n",
    "        string s = \"Supercalifragilisticexpialidocious\";\n",
    "        Console.WriteLine(\"Task 2a \\nTotal length : \"+s.Length);\n",
    "        //Task 2b Checking If given string is sub string or not of another given string\n",
    "        isSubstring();\n",
    "        //Task 2c Finding Longest string in given three strings\n",
    "        LongestString();\n",
    "        //Task 2d Getting string in Order as per Dictionary\n",
    "        DictionaryOrder();\n",
    "    }\n",
    "}"
   ]
  },
  {
   "cell_type": "markdown",
   "id": "7915077f",
   "metadata": {},
   "source": [
    "# Question 3 \n",
    "     AREA OF TRIANGLE USING HERON'S FORMULA"
   ]
  },
  {
   "cell_type": "code",
   "execution_count": null,
   "id": "ed143b86",
   "metadata": {},
   "outputs": [],
   "source": [
    "using System;\n",
    "public class AreaOfTriangle\n",
    "{\n",
    "    public static void Main()\n",
    "    {\n",
    "        int a = 2, b = 2,c = 2;\n",
    "        Console.WriteLine($\"Value of side1 = {a}, side2 = {b}, and side2 = {c}\");\n",
    "        double s = (a + b + c) / 2; //s is semiperimeter\n",
    "        double Area = Math.Sqrt(s * (s - a) * (s - b) * (s - c)); // Heron's formula\n",
    "        Console.Write(\"Area of a Triangle = \" + Area);\n",
    "        Console.ReadKey();\n",
    "    }\n",
    "}"
   ]
  },
  {
   "cell_type": "markdown",
   "id": "de1676de",
   "metadata": {},
   "source": [
    "# Question 4\n",
    "      Separate ODD and EVEN integers in SEPERATE ARRAYS"
   ]
  },
  {
   "cell_type": "code",
   "execution_count": null,
   "id": "d94edfb8",
   "metadata": {},
   "outputs": [],
   "source": [
    "using System;\n",
    "\n",
    "class Program\n",
    "{\n",
    "    static void Main() {\n",
    "        Console.Write(\"Enter the no.of elements to be stored in the array : \");\n",
    "        string val = Console.ReadLine();\n",
    "        int res = Convert.ToInt32(val);\n",
    "        int[] arr = new int[res];\n",
    "        for(int i = 0;i<res;++i){\n",
    "            Console.Write(\"element - \"+i+\" : \");\n",
    "            string a = Console.ReadLine();\n",
    "            int ss = Convert.ToInt32(a);\n",
    "            arr[i]=ss;\n",
    "        }\n",
    "        Console.WriteLine(\"The Even elements are: \");\n",
    "        for(int i = 0;i<res;++i){\n",
    "            if(arr[i]%2 == 0)\n",
    "                Console.Write(arr[i]+\" \");\n",
    "        }\n",
    "        Console.WriteLine(\" \");\n",
    "        Console.WriteLine(\"The Odd elements are: \");\n",
    "        for(int i = 0;i<res;++i){\n",
    "            if(arr[i]%2 != 0)\n",
    "                Console.Write(arr[i]+\" \");\n",
    "        }\n",
    "    }\n",
    "}\n",
    "\n"
   ]
  },
  {
   "cell_type": "markdown",
   "id": "d0066928",
   "metadata": {},
   "source": [
    "# Question 5\n",
    "     "
   ]
  },
  {
   "cell_type": "code",
   "execution_count": null,
   "id": "43f693a8",
   "metadata": {},
   "outputs": [],
   "source": [
    " using System;\n",
    "class ProgramFive\n",
    "{\n",
    "    public static bool inside(double x,double y,double x1,double y1,double x2,double y2)\n",
    "    {\n",
    "        if (x > x1 && x < x2 && y > y1 && y < y2)\n",
    "            return true;\n",
    "    \n",
    "        return false;\n",
    "    }\n",
    "    static void Main() {\n",
    "            Console.WriteLine(inside(1,1,0,0,2,3));\n",
    "            Console.WriteLine(inside(-1,-1,0,0,2,3));\n",
    "            \n",
    "            if(inside(1,1,0.3,0.5,1.1,0.7) && inside(1,1,0.5,0.2,1.1,2))\n",
    "                Console.WriteLine(\"The point lies in both the rectangles\");\n",
    "            else\n",
    "                Console.WriteLine(\"The point doesnot lies in both the rectangles\");\n",
    "                \n",
    "            \n",
    "    }\n",
    "}"
   ]
  },
  {
   "cell_type": "markdown",
   "id": "4e9dd2b1",
   "metadata": {},
   "source": [
    "# Question 6 // Python"
   ]
  },
  {
   "cell_type": "code",
   "execution_count": null,
   "id": "5a269b5d",
   "metadata": {},
   "outputs": [],
   "source": [
    "def pig(s):\n",
    "    vowels = ['a','e','i','o','u','A','E','I','U','O']\n",
    "    ans = \"\"\n",
    "    if s[0] not in vowels :\n",
    "        #print(s[0])\n",
    "        ans = s[1:]\n",
    "        ans = ans + s[0]\n",
    "        ans = ans + \"ay\"\n",
    "    else:\n",
    "        ans=s+'way'\n",
    "    print(ans.lower())\n",
    "pig(\"happy\")\n",
    "pig(\"Enter\")"
   ]
  },
  {
   "cell_type": "markdown",
   "id": "5e024a94",
   "metadata": {},
   "source": [
    "# Question 7"
   ]
  },
  {
   "cell_type": "code",
   "execution_count": null,
   "id": "2828734b",
   "metadata": {},
   "outputs": [],
   "source": [
    "bloodGroups = dict()\n",
    "bloodGroups['O']=0;bloodGroups['B']=0;bloodGroups['A']=0;bloodGroups['AB']=0\n",
    "bloodGroups['OO']=0\n",
    "with open('bloodtype1.txt','r') as f :    \n",
    "    for eachLine in f :                   \n",
    "        listOFGroups = eachLine.split()\n",
    "        for group in listOFGroups :\n",
    "            bloodGroups[group] +=1\n",
    "\n",
    "for group in bloodGroups :\n",
    "    if bloodGroups[group] == 0 :\n",
    "        print(\"There are no patients of blood type {}\".format(group))\n",
    "    elif bloodGroups[group] == 1:\n",
    "        print(\"There are one patient of blood type {}\".format(group))\n",
    "    else :\n",
    "        print(\"There are {} patients of blood type {}\".format(bloodGroups[group],group))"
   ]
  },
  {
   "cell_type": "markdown",
   "id": "69dc431b",
   "metadata": {},
   "source": [
    "# Question 8"
   ]
  },
  {
   "cell_type": "code",
   "execution_count": null,
   "id": "9385fcbb",
   "metadata": {},
   "outputs": [],
   "source": [
    "def curconv(currency,amount):\n",
    "    filepointer = open('currencies.txt','r')\n",
    "    text = filepointer.read()\n",
    "    liss = text.split('\\n')\n",
    "    currDic = dict()\n",
    "    for cur in liss :\n",
    "        demo = cur.split('\\t')\n",
    "        currDic[demo[0]] = float(demo[1])\n",
    "    print(currDic[currency]*amount)\n",
    "curconv(\"EUR\",100)\n",
    "curconv(\"JPY\",100)"
   ]
  },
  {
   "cell_type": "markdown",
   "id": "34f51159",
   "metadata": {},
   "source": [
    "# Question 9\n",
    "    # Reference : https://docs.python.org/3/library/exceptions.html"
   ]
  },
  {
   "cell_type": "code",
   "execution_count": null,
   "id": "749340f2",
   "metadata": {},
   "outputs": [],
   "source": [
    "Trying to add incompatible variables, as in          - TypeError: unsupported operand type(s) for +: 'int' and 'str'\n",
    "adding 6 + ‘a’\n",
    "Referring to the 12th item of a list that has only 10 - IndexError: list index out of range\n",
    "items\n",
    "Using a value that is out ofrange for a function’s    - ValueError: math domain error\n",
    "input, such as calling math.sqrt(-1.0)\n",
    "Using an undeclared variable, such as print(x)        - NameError: name 'x' is not defined\n",
    "when x has not been defined\n",
    "Trying to open a file that does not exist, such as    - FileNotFoundError\n",
    "mistyping the file name or looking in the wrong\n",
    "directory."
   ]
  },
  {
   "cell_type": "markdown",
   "id": "aa67bd17",
   "metadata": {},
   "source": [
    "# Question 10"
   ]
  },
  {
   "cell_type": "code",
   "execution_count": null,
   "id": "df9de6bd",
   "metadata": {},
   "outputs": [],
   "source": [
    "def frequencies(a) :\n",
    "    alphabets = {'a':0,'b':0,'c':0,'d':0,'e':0,'f':0,'g':0,'h':0,'i':0,'j':0,'k':0,'l':0,'m':0,'n':0,'o':0,\n",
    "    'p':0,'q':0,'r':0,'s':0,'t':0,'u':0,'v':0,'w':0,'x':0,'y':0,'z':0}\n",
    "\n",
    "    alpha = \"abcdefghijklmnopqrstuvwxyz\"\n",
    "\n",
    "    for ind in range(0,len(a)):\n",
    "        if a[ind] in alphabets:\n",
    "            alphabets[a[ind]]+=1\n",
    "    alphaList = []\n",
    "    for key in alphabets :\n",
    "        alphaList.append(alphabets[key])\n",
    "    print(alphaList)\n",
    "frequencies(\"The quick red fox got bored and went home\")\n",
    "frequencies(\"apple\")"
   ]
  }
 ],
 "metadata": {
  "kernelspec": {
   "display_name": ".NET (C#)",
   "language": "C#",
   "name": ".net-csharp"
  },
  "language_info": {
   "file_extension": ".cs",
   "mimetype": "text/x-csharp",
   "name": "C#",
   "pygments_lexer": "csharp",
   "version": "8.0"
  }
 },
 "nbformat": 4,
 "nbformat_minor": 5
}
